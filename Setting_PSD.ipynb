{
 "cells": [
  {
   "cell_type": "code",
   "execution_count": 1,
   "metadata": {},
   "outputs": [],
   "source": [
    "import matplotlib.pyplot as plt\n",
    "import numpy as np\n",
    "from lib.PSD.LISAcalPSD import LISAcalPSD1, LISAcalPSD2 \n",
    "from pycbc.types.frequencyseries import FrequencySeries\n",
    "import pycbc.psd\n",
    "from scipy.interpolate import interp1d                   # interplate\n",
    "from scipy import signal"
   ]
  },
  {
   "cell_type": "markdown",
   "metadata": {},
   "source": [
    "# 参数设置"
   ]
  },
  {
   "cell_type": "code",
   "execution_count": 2,
   "metadata": {},
   "outputs": [
    {
     "name": "stdout",
     "output_type": "stream",
     "text": [
      "采样频率为0.25Hz，信号持续时间65536s, 时域信号采样16384 个点\n",
      "信号中可分析最大频率为0.125000Hz\n",
      "\n",
      "采样周期，即时域分辨率为4.000000s\n",
      "信号频域的频率间隔，即频域分辨率为0.000015Hz\n"
     ]
    }
   ],
   "source": [
    "sampFreq = 0.25               #采样频率(Sampling frequency)，单位时间样本点个数，应大于 2f（即Nyquist频率)\n",
    "duration = 2**16          #信号持续时间(duration of signal)\n",
    "\n",
    "\n",
    "n = int(duration * sampFreq)#采样点数(Sampling Number), 有时也称为信号长度(Length of Signal)\n",
    "                            #为2的幂时，快速傅里叶变化效率最高\n",
    "                            #n =  duration * sampFreqint = (duration / sampIntrvl)\n",
    "\n",
    "sampIntrvl = 1.0 / sampFreq                   #采样周期(Sampling period)，隔多少时间取样一次，或步长\n",
    "freqIntrvl = sampFreq / n                     #傅里叶变换 频率分辨率(Frequency Interval) \n",
    "                                              # freqIntrvl = 1 / duration = 1 / (n * sampIntrvl)\n",
    "                                              #            = sampFreq / n  \n",
    "        \n",
    "\n",
    "f_max = sampFreq/2.0             #信号模式的最大频率\n",
    "\n",
    "print(\"采样频率为%3.2fHz，信号持续时间%ds, 时域信号采样%d 个点\"%(sampFreq,duration,n))\n",
    "print(\"信号中可分析最大频率为%fHz\"%f_max)\n",
    "print(\"\\n采样周期，即时域分辨率为%fs\"%(sampIntrvl))\n",
    "print(\"信号频域的频率间隔，即频域分辨率为%fHz\"%freqIntrvl);"
   ]
  },
  {
   "cell_type": "markdown",
   "metadata": {},
   "source": [
    "# 构建用于pyCBC的PSD频率序列"
   ]
  },
  {
   "cell_type": "markdown",
   "metadata": {},
   "source": [
    "## 利用psd模拟函数生成"
   ]
  },
  {
   "cell_type": "code",
   "execution_count": 3,
   "metadata": {},
   "outputs": [
    {
     "name": "stdout",
     "output_type": "stream",
     "text": [
      "[1.04719755e-28 1.59789665e-03 3.19579331e-03 ... 2.61751451e+01\n",
      " 2.61767430e+01 2.61783409e+01]\n"
     ]
    }
   ],
   "source": [
    "freqVec = np.linspace(0, freqIntrvl * (n-1), n)\n",
    "low_freq_cutoff0 = 1e-4\n",
    "\n",
    "\n",
    "#构建频率序列(必须等频率间隔)，这里我们开始于0Hz(必须开始于0，否则导入pyCBC的结果不对), 结束于1Hz，频率间隔为上面的freqIntrvl\n",
    "\n",
    "#LISA PSD 模拟函数\n",
    "psd1 = LISAcalPSD1(freqVec) \n",
    "\n",
    "'''\n",
    "1. Babak, S., Fang, H., Gair, J. R., Glampedakis, K. & Hughes, S. A. Kludge’\n",
    "gravitational waveforms for a test-body orbiting a Kerr black hole. Phys.Rev. D 75, 024005 (2007).\n",
    "\n",
    "'''\n",
    "\n",
    "psd2 = LISAcalPSD2(freqVec)\n",
    "\n",
    "\n",
    "'''\n",
    "1. Sathyaprakash, B. S. & Schutz, B. F. \n",
    "Physics, Astrophysics and Cosmology with Gravitational Waves. Living Rev Relativ 12, 122004 (2009).\n",
    "\n",
    "'''\n",
    "\n",
    "#构建用于pyCBC的FrequencySeries\n",
    "psd1 = pycbc.psd.read.from_numpy_arrays(freqVec , psd1, n, freqIntrvl, low_freq_cutoff0)\n",
    "psd2 = pycbc.psd.read.from_numpy_arrays(freqVec , psd2, n, freqIntrvl, low_freq_cutoff0)"
   ]
  },
  {
   "cell_type": "markdown",
   "metadata": {},
   "source": [
    "## 从文件中导入"
   ]
  },
  {
   "cell_type": "code",
   "execution_count": 4,
   "metadata": {},
   "outputs": [],
   "source": [
    "# 导入的psd文件要求第一列为频率(必须从0开始，不是等间隔需要进行插值)，第二列是psd，两列用空格分隔\n",
    "\n",
    "'''\n",
    "from WWW Sensitivity Curve Generator located at:\n",
    "  http://www.srl.caltech.edu/~shane/sensitivity/MakeCurve.html\n",
    "\n",
    "'''\n",
    "\n",
    "#导入\n",
    "psdfile = np.fromfile(\"lib/PSD/LISAshotPSD.txt\", dtype=float, count=-1, sep='\\n')\n",
    "psdlen = len(psdfile)\n",
    "freqVecPre = psdfile[0:psdlen:2]\n",
    "psdPre = psdfile[1:psdlen:2]\n",
    "#插值\n",
    "LISAcalPSD3 = interp1d(freqVecPre, psdPre, kind='cubic', fill_value=\"extrapolate\") \n",
    "\n",
    "#构建用于pyCBC的FrequencySeries\n",
    "psd3 = LISAcalPSD3(freqVec)\n",
    "psd3 = FrequencySeries(psd3, delta_f=freqIntrvl, epoch='', dtype=None, copy=True)\n",
    "\n",
    "psd3 = pycbc.psd.read.from_numpy_arrays(freqVec, psd3, n, freqIntrvl, low_freq_cutoff0)\n"
   ]
  },
  {
   "cell_type": "markdown",
   "metadata": {},
   "source": [
    "## pycbc内置"
   ]
  },
  {
   "cell_type": "code",
   "execution_count": 5,
   "metadata": {},
   "outputs": [
    {
     "name": "stdout",
     "output_type": "stream",
     "text": [
      "['AdVBNSOptimizedSensitivityP1200087', 'AdVDesignSensitivityP1200087', 'AdVEarlyHighSensitivityP1200087', 'AdVEarlyLowSensitivityP1200087', 'AdVLateHighSensitivityP1200087', 'AdVLateLowSensitivityP1200087', 'AdVMidHighSensitivityP1200087', 'AdVMidLowSensitivityP1200087', 'AdvVirgo', 'CosmicExplorerP1600143', 'CosmicExplorerPessimisticP1600143', 'CosmicExplorerWidebandP1600143', 'EinsteinTelescopeP1600143', 'GEO', 'GEOHF', 'KAGRA', 'KAGRADesignSensitivityT1600593', 'KAGRAEarlySensitivityT1600593', 'KAGRALateSensitivityT1600593', 'KAGRAMidSensitivityT1600593', 'KAGRAOpeningSensitivityT1600593', 'TAMA', 'Virgo', 'aLIGOAPlusDesignSensitivityT1800042', 'aLIGOAdVO3LowT1800545', 'aLIGOAdVO4IntermediateT1800545', 'aLIGOAdVO4T1800545', 'aLIGOBHBH20Deg', 'aLIGOBHBH20DegGWINC', 'aLIGOBNSOptimizedSensitivityP1200087', 'aLIGODesignSensitivityP1200087', 'aLIGOEarlyHighSensitivityP1200087', 'aLIGOEarlyLowSensitivityP1200087', 'aLIGOHighFrequency', 'aLIGOHighFrequencyGWINC', 'aLIGOKAGRA128MpcT1800545', 'aLIGOKAGRA25MpcT1800545', 'aLIGOKAGRA80MpcT1800545', 'aLIGOLateHighSensitivityP1200087', 'aLIGOLateLowSensitivityP1200087', 'aLIGOMidHighSensitivityP1200087', 'aLIGOMidLowSensitivityP1200087', 'aLIGONSNSOpt', 'aLIGONSNSOptGWINC', 'aLIGONoSRMHighPower', 'aLIGONoSRMLowPower', 'aLIGONoSRMLowPowerGWINC', 'aLIGOQuantumBHBH20Deg', 'aLIGOQuantumHighFrequency', 'aLIGOQuantumNSNSOpt', 'aLIGOQuantumNoSRMHighPower', 'aLIGOQuantumNoSRMLowPower', 'aLIGOQuantumZeroDetHighPower', 'aLIGOQuantumZeroDetLowPower', 'aLIGOThermal', 'aLIGOZeroDetHighPower', 'aLIGOZeroDetHighPowerGWINC', 'aLIGOZeroDetLowPower', 'aLIGOZeroDetLowPowerGWINC', 'aLIGOaLIGO140MpcT1800545', 'aLIGOaLIGO175MpcT1800545', 'aLIGOaLIGODesignSensitivityT1800044', 'aLIGOaLIGOO3LowT1800545', 'eLIGOModel', 'eLIGOShot', 'iLIGOModel', 'iLIGOSRD', 'iLIGOSeismic', 'iLIGOShot', 'iLIGOThermal']\n"
     ]
    }
   ],
   "source": [
    "# 列出lalsuite内置的解析psd (没发现有LISA的，下面以LIGO的作为示例)\n",
    "print(pycbc.psd.get_lalsim_psd_list())\n",
    "\n",
    "sampFreq2 = 2048.0            #采样频率(Sampling frequency)，单位时间样本点个数，应大于 2f（即Nyquist频率)\n",
    "duration2 = 4.0             #信号持续时间(duration of signal)\n",
    "n2 = int(duration2 * sampFreq2)#采样点数(Sampling Number), 有时也称为信号长度(Length of Signal)\n",
    "\n",
    "sampIntrvl2 = 1.0 / sampFreq2                   #采样周期(Sampling period)，隔多少时间取样一次，或步长\n",
    "freqIntrvl2 = sampFreq2 / n2                     #傅里叶变换 频率分辨率(Frequency Interval) \n",
    "                                                # freqIntrvl = 1 / duration = 1 / (n * sampIntrvl)\n",
    "                                                #            = sampFreq / n \n",
    "\n",
    "low_frequency_cutoff = 10.0                     #低于此频率的psd将被设置为0\n",
    "\n",
    "#示例，psd参见， https://dcc.ligo.org/LIGO-T1800044/public\n",
    "\n",
    "psd4 = pycbc.psd.from_string('aLIGOaLIGODesignSensitivityT1800044', n2, freqIntrvl2, low_frequency_cutoff)"
   ]
  },
  {
   "cell_type": "markdown",
   "metadata": {},
   "source": [
    "# 绘图"
   ]
  },
  {
   "cell_type": "code",
   "execution_count": 6,
   "metadata": {},
   "outputs": [
    {
     "data": {
      "image/png": "[encoded data removed]",
      "text/plain": [
       "<Figure size 432x288 with 1 Axes>"
      ]
     },
     "metadata": {
      "needs_background": "light"
     },
     "output_type": "display_data"
    }
   ],
   "source": [
    "#绘制 频率 - sqrt(PSD) 图 \n",
    "plt.figure()\n",
    "plt.loglog(psd1.sample_frequencies, np.sqrt(psd1), label = 'LISA-psd1')\n",
    "plt.loglog(psd2.sample_frequencies, np.sqrt(psd2), label = 'LISA-psd2')\n",
    "plt.loglog(psd3.sample_frequencies, np.sqrt(psd3), label = 'LISA-psd3')\n",
    "plt.xlim(1e-4, f_max)\n",
    "plt.ylim(1e-21,1e-15)\n",
    "plt.xlabel(\"Frequency / Hz\")\n",
    "plt.ylabel(\"$\\sqrt{S_{n}(f) \\ / \\ (Hz^{-1})}$\")\n",
    "plt.legend()\n",
    "plt.show()"
   ]
  },
  {
   "cell_type": "code",
   "execution_count": 7,
   "metadata": {},
   "outputs": [
    {
     "data": {
      "image/png": "[encoded data removed]",
      "text/plain": [
       "<Figure size 432x288 with 1 Axes>"
      ]
     },
     "metadata": {
      "needs_background": "light"
     },
     "output_type": "display_data"
    }
   ],
   "source": [
    "#绘制 频率 - sqrt(PSD) 图\n",
    "plt.figure()\n",
    "plt.loglog(psd4.sample_frequencies, np.sqrt(psd4), label = 'LIGO-psd')\n",
    "plt.xlim(1e1,1e3)\n",
    "plt.xlabel(\"Frequency / Hz\")\n",
    "plt.ylabel(\"$\\sqrt{S_{n}(f) \\ / \\ (Hz^{-1})}$\")\n",
    "plt.legend()\n",
    "plt.show()"
   ]
  }
 ],
 "metadata": {
  "hide_input": false,
  "kernelspec": {
   "display_name": "pycbc",
   "language": "python",
   "name": "pycbc"
  },
  "language_info": {
   "codemirror_mode": {
    "name": "ipython",
    "version": 3
   },
   "file_extension": ".py",
   "mimetype": "text/x-python",
   "name": "python",
   "nbconvert_exporter": "python",
   "pygments_lexer": "ipython3",
   "version": "3.7.3"
  },
  "latex_envs": {
   "LaTeX_envs_menu_present": true,
   "autoclose": false,
   "autocomplete": true,
   "bibliofile": "biblio.bib",
   "cite_by": "apalike",
   "current_citInitial": 1,
   "eqLabelWithNumbers": true,
   "eqNumInitial": 1,
   "hotkeys": {
    "equation": "Ctrl-E",
    "itemize": "Ctrl-I"
   },
   "labels_anchors": false,
   "latex_user_defs": false,
   "report_style_numbering": false,
   "user_envs_cfg": false
  },
  "toc": {
   "base_numbering": 1,
   "nav_menu": {},
   "number_sections": true,
   "sideBar": true,
   "skip_h1_title": false,
   "title_cell": "Table of Contents",
   "title_sidebar": "Contents",
   "toc_cell": false,
   "toc_position": {},
   "toc_section_display": true,
   "toc_window_display": false
  },
  "varInspector": {
   "cols": {
    "lenName": 16,
    "lenType": 16,
    "lenVar": 40
   },
   "kernels_config": {
    "python": {
     "delete_cmd_postfix": "",
     "delete_cmd_prefix": "del ",
     "library": "var_list.py",
     "varRefreshCmd": "print(var_dic_list())"
    },
    "r": {
     "delete_cmd_postfix": ") ",
     "delete_cmd_prefix": "rm(",
     "library": "var_list.r",
     "varRefreshCmd": "cat(var_dic_list()) "
    }
   },
   "types_to_exclude": [
    "module",
    "function",
    "builtin_function_or_method",
    "instance",
    "_Feature"
   ],
   "window_display": false
  }
 },
 "nbformat": 4,
 "nbformat_minor": 2
}
